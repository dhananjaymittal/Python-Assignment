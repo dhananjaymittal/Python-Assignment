{
 "cells": [
  {
   "cell_type": "code",
   "execution_count": null,
   "metadata": {
    "id": "HXQ0Ftyyiy6Q"
   },
   "outputs": [],
   "source": [
    "## Q.1  In the below elements which of them are values or an expression? eg:- values can be integer or string and expressions will be mathematical operators.\n",
    "## Ans.   * is multiple operator\n",
    "##          'hello' is string\n",
    "##           -87.8 is float\n",
    "##          - is minus operator\n",
    "##          / is divide operator\n",
    "##          +\tis add operator\n",
    "##          6 is integer\n",
    "\n"
   ]
  },
  {
   "cell_type": "code",
   "execution_count": null,
   "metadata": {
    "colab": {
     "base_uri": "https://localhost:8080/"
    },
    "id": "_pwb2HR0jC2s",
    "outputId": "4725cc91-e115-4cda-f664-09027161a2cb"
   },
   "outputs": [
    {
     "name": "stdout",
     "output_type": "stream",
     "text": [
      "<class 'str'>\n"
     ]
    }
   ],
   "source": [
    "##Q.2    What is the difference between string and variable?\n",
    "##Ans.   variable is store a value in a memory. And string is the datatype of a variable\n",
    "\n",
    "## example:-\n",
    "Str1=\"test\"  ## here str1 is a varaiable and \"test\" is a string\n",
    "print(type(Str1))\n",
    "\n"
   ]
  },
  {
   "cell_type": "code",
   "execution_count": null,
   "metadata": {
    "id": "VDTK-53EjC6g"
   },
   "outputs": [],
   "source": [
    "##Q.3    Describe three different data types.\n",
    "##Ans.   There are 5 different data types in python:-\n",
    "##        1. Number\n",
    "##        2. String\n",
    "##        3. List\n",
    "##        4. Tuple\n",
    "##        5. Dictionary\n"
   ]
  },
  {
   "cell_type": "code",
   "execution_count": null,
   "metadata": {
    "id": "br7MStDPjDFk"
   },
   "outputs": [],
   "source": [
    "##Q.4     What is an expression made up of? What do all expressions do?\n",
    "##Ans.    expression are made of operators like < , > , ==, != etc. They are used to compare the values in while loop or in if else condition"
   ]
  },
  {
   "cell_type": "code",
   "execution_count": 1,
   "metadata": {
    "colab": {
     "base_uri": "https://localhost:8080/"
    },
    "id": "6F9Z1vTejDJ7",
    "outputId": "5daf3fe9-b8be-4605-b26a-6447db9ef60c"
   },
   "outputs": [
    {
     "name": "stdout",
     "output_type": "stream",
     "text": [
      "expression\n"
     ]
    }
   ],
   "source": [
    "##Q.5     This assignment statements, like spam = 10. What is the difference between an expression and a statement?\n",
    "##Ans.    expression is used for compare, and assignment is used to assign value to variable eg.:-\n",
    "spam=10 ## assignment\n",
    "if spam==10:    ## expression\n",
    "  print(\"expression\")"
   ]
  },
  {
   "cell_type": "code",
   "execution_count": null,
   "metadata": {
    "colab": {
     "base_uri": "https://localhost:8080/"
    },
    "id": "GY1hzwRujDNS",
    "outputId": "3476010d-5635-4680-cfec-deeaccf294af"
   },
   "outputs": [
    {
     "name": "stdout",
     "output_type": "stream",
     "text": [
      "23\n"
     ]
    }
   ],
   "source": [
    "##Q.6     After running the following code, what does the variable bacon contain?\n",
    "bacon = 22\n",
    "print(bacon + 1)  ## 23\n"
   ]
  },
  {
   "cell_type": "code",
   "execution_count": null,
   "metadata": {
    "colab": {
     "base_uri": "https://localhost:8080/"
    },
    "id": "Q8PYzKzArX0g",
    "outputId": "26c743e9-6d72-4fb9-98ad-f977a4cc0aa0"
   },
   "outputs": [
    {
     "name": "stdout",
     "output_type": "stream",
     "text": [
      "spamspamspam\n",
      "spamspamspam\n"
     ]
    }
   ],
   "source": [
    "##Q.7     What should the values of the following two terms be?\n",
    "print('spam' + 'spamspam')\n",
    "print('spam' * 3)\n",
    "## both will be same"
   ]
  },
  {
   "cell_type": "code",
   "execution_count": null,
   "metadata": {
    "id": "v1bVNL0grX25"
   },
   "outputs": [],
   "source": [
    "##Q.8     Why is eggs a valid variable name while 100 is invalid?\n",
    "##Ans.    Eggs variable is valid because first letter is character or String\n",
    "##        But 100 variable is starting with numeric. Variable name can't be started from numeric"
   ]
  },
  {
   "cell_type": "code",
   "execution_count": null,
   "metadata": {
    "colab": {
     "base_uri": "https://localhost:8080/"
    },
    "id": "sN7_rG4grX5v",
    "outputId": "88573e31-3e58-4f5a-c9a7-06e33da39d0e"
   },
   "outputs": [
    {
     "name": "stdout",
     "output_type": "stream",
     "text": [
      "<class 'int'>\n",
      "<class 'float'>\n",
      "<class 'str'>\n"
     ]
    }
   ],
   "source": [
    "##Q.9     What three functions can be used to get the integer, floating-point number, or string version of a value?\n",
    "##Ans.    To convert into integer -> int()\n",
    "##        To convert into floating-point number -> float()\n",
    "##        To convert into string -> str()\n",
    "##Example:-\n",
    "print(type(int(\"23\")))\n",
    "print(type(float(\"23\")))\n",
    "print(type(str(23)))\n"
   ]
  },
  {
   "cell_type": "code",
   "execution_count": null,
   "metadata": {
    "colab": {
     "base_uri": "https://localhost:8080/",
     "height": 195
    },
    "id": "udenW1p7rX87",
    "outputId": "a95219af-5df6-4fe7-d0f7-a6427cb3a55e"
   },
   "outputs": [
    {
     "ename": "TypeError",
     "evalue": "ignored",
     "output_type": "error",
     "traceback": [
      "\u001b[0;31m---------------------------------------------------------------------------\u001b[0m",
      "\u001b[0;31mTypeError\u001b[0m                                 Traceback (most recent call last)",
      "\u001b[0;32m<ipython-input-16-ddd41c2eee06>\u001b[0m in \u001b[0;36m<module>\u001b[0;34m()\u001b[0m\n\u001b[1;32m      1\u001b[0m \u001b[0;31m##Q.10     Why does this expression cause an error? How can you fix it?\u001b[0m\u001b[0;34m\u001b[0m\u001b[0;34m\u001b[0m\u001b[0;34m\u001b[0m\u001b[0m\n\u001b[0;32m----> 2\u001b[0;31m \u001b[0mprint\u001b[0m\u001b[0;34m(\u001b[0m\u001b[0;34m'I have eaten '\u001b[0m \u001b[0;34m+\u001b[0m \u001b[0;36m99\u001b[0m \u001b[0;34m+\u001b[0m \u001b[0;34m' burritos.'\u001b[0m\u001b[0;34m)\u001b[0m\u001b[0;34m\u001b[0m\u001b[0;34m\u001b[0m\u001b[0m\n\u001b[0m\u001b[1;32m      3\u001b[0m \u001b[0;34m\u001b[0m\u001b[0m\n",
      "\u001b[0;31mTypeError\u001b[0m: can only concatenate str (not \"int\") to str"
     ]
    }
   ],
   "source": [
    "##Q.10     Why does this expression cause an error? How can you fix it?\n",
    "##Ans.     This below statament fails becuase 99(int) can't be concatenated with string if you want to concatenate then need to convert 99 into string\n",
    "\n",
    "print('I have eaten ' + 99 + ' burritos.')\n",
    "\n",
    "\n"
   ]
  }
 ],
 "metadata": {
  "colab": {
   "collapsed_sections": [],
   "name": "Assignment_1.ipynb",
   "provenance": []
  },
  "kernelspec": {
   "display_name": "Python 3",
   "language": "python",
   "name": "python3"
  },
  "language_info": {
   "codemirror_mode": {
    "name": "ipython",
    "version": 3
   },
   "file_extension": ".py",
   "mimetype": "text/x-python",
   "name": "python",
   "nbconvert_exporter": "python",
   "pygments_lexer": "ipython3",
   "version": "3.8.5"
  }
 },
 "nbformat": 4,
 "nbformat_minor": 1
}
