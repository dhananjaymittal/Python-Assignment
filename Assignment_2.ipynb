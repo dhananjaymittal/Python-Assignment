{
  "nbformat": 4,
  "nbformat_minor": 0,
  "metadata": {
    "colab": {
      "name": "Assignment_2.ipynb",
      "provenance": [],
      "collapsed_sections": []
    },
    "kernelspec": {
      "name": "python3",
      "display_name": "Python 3"
    },
    "language_info": {
      "name": "python"
    }
  },
  "cells": [
    {
      "cell_type": "code",
      "metadata": {
        "id": "AevQUHvZ2A_i"
      },
      "source": [
        "##Q.1     What are the two values of the Boolean data type? How do you write them?\n",
        "##Ans.    There are two boolean values:-\n",
        "##        1. True\n",
        "##        2. False\n",
        "##Example\n",
        "bool1=True\n",
        "bool2=False"
      ],
      "execution_count": null,
      "outputs": []
    },
    {
      "cell_type": "code",
      "metadata": {
        "id": "7gFLIoTP2LY4"
      },
      "source": [
        "##Q.2     What are the three different types of Boolean operators?\n",
        "##Ans.    There are three operators:-\n",
        "##        1. AND operator\n",
        "##        2. OR operator \n",
        "##        3. NOT operator"
      ],
      "execution_count": null,
      "outputs": []
    },
    {
      "cell_type": "code",
      "metadata": {
        "id": "KoZF14L_2LgO"
      },
      "source": [
        "##Q.3     Make a list of each Boolean operator's truth tables (i.e. every possible combination of Boolean values for the operator and what it evaluate ).  \n",
        "##Ans.    True+True -> True\n",
        "##        False+True -> False\n",
        "##        True+False -> False\n",
        "##        False+False -> False\n"
      ],
      "execution_count": null,
      "outputs": []
    },
    {
      "cell_type": "code",
      "metadata": {
        "colab": {
          "base_uri": "https://localhost:8080/"
        },
        "id": "2SRoUCw92Lii",
        "outputId": "d919de0c-7dbc-40f7-c436-f2db5c0f7be5"
      },
      "source": [
        "##Q.4     What are the values of the following expressions?\n",
        "##Ans.    \n",
        "print((5 > 4) and (3 == 5)) ## False\n",
        "print(not(5 > 4))  ## False\n",
        "print((5 > 4) or (3 == 5))  ## True\n",
        "print(not ((5 > 4) or (3 == 5))) ## False\n",
        "print((True and True) and (True == False)) ## False\n",
        "print((not False) or (not True))   ## True"
      ],
      "execution_count": null,
      "outputs": [
        {
          "output_type": "stream",
          "text": [
            "False\n",
            "False\n",
            "True\n",
            "False\n",
            "False\n",
            "True\n"
          ],
          "name": "stdout"
        }
      ]
    },
    {
      "cell_type": "code",
      "metadata": {
        "id": "TXYwBG1B2Lkq"
      },
      "source": [
        "##Q.5     What are the six comparison operators?\n",
        "##Ans.    \"==\" -> Equal to\n",
        "##        \"!=\" -> Not Equal to \n",
        "##        \">\" -> Greater Than\n",
        "##        \"<\" -> Less Than\n",
        "##        \"<=\" -> Less Than or Equal to\n",
        "##        \">=\" -> Generater Than or equal to "
      ],
      "execution_count": null,
      "outputs": []
    },
    {
      "cell_type": "code",
      "metadata": {
        "id": "-cudXLUi2Lmt"
      },
      "source": [
        "##Q.6     How do you tell the difference between the equal to and assignment operators?Describe a condition and when you would use one. \n",
        "##Ans.    assignment operator is \"=\". This is used to initialize the value to variable\n",
        "##        \"Equal to\" operator is \"==\". This is used to compare two values. Used in if else condition"
      ],
      "execution_count": null,
      "outputs": []
    },
    {
      "cell_type": "code",
      "metadata": {
        "colab": {
          "base_uri": "https://localhost:8080/"
        },
        "id": "6npiWt7_2Lot",
        "outputId": "1a45fc8a-f94f-4149-8282-09838097200e"
      },
      "source": [
        "##Q.7     Identify the three blocks in this code:\n",
        "spam = 0\n",
        "if spam == 10:\n",
        "  print('eggs')\n",
        "if spam > 5:\n",
        "  print('bacon')\n",
        "else:\n",
        "  print('ham')\n",
        "  print('spam')\n",
        "  print('spam')\n",
        "\n",
        "##Ans.    Code is not properly aligned. I have aligned the code and Spam is zero due to check only else part is running"
      ],
      "execution_count": null,
      "outputs": [
        {
          "output_type": "stream",
          "text": [
            "ham\n",
            "spam\n",
            "spam\n"
          ],
          "name": "stdout"
        }
      ]
    },
    {
      "cell_type": "code",
      "metadata": {
        "id": "kfD4L_l-2LsX",
        "colab": {
          "base_uri": "https://localhost:8080/"
        },
        "outputId": "5244d510-99c2-4ec5-f12f-67fc8b0aff26"
      },
      "source": [
        "##Q.8     Write code that prints Hello if 1 is stored in spam, prints Howdy if 2 is stored in spam, and prints Greetings! if anything else is stored in spam.\n",
        "##Ans.    \n",
        "spam=input(\"Enter Value:-\")\n",
        "if (spam==\"1\"):\n",
        "  print(\"Hello\")\n",
        "elif (spam==\"2\"):\n",
        "  print(\"Howdy\")\n",
        "else:\n",
        "  print(\"Greetings\")"
      ],
      "execution_count": null,
      "outputs": [
        {
          "output_type": "stream",
          "text": [
            "Enter Value:-1\n",
            "Hello\n"
          ],
          "name": "stdout"
        }
      ]
    },
    {
      "cell_type": "code",
      "metadata": {
        "id": "Rz76xLhl2XoQ"
      },
      "source": [
        "##Q.9     If your programme is stuck in an endless loop, what keys you’ll press?\n",
        "##Ans.    CTRL + BREAK"
      ],
      "execution_count": null,
      "outputs": []
    },
    {
      "cell_type": "code",
      "metadata": {
        "id": "zSSqfL2W2Lvm"
      },
      "source": [
        "##Q.10     How can you tell the difference between break and continue?\n",
        "##Ans.    break will terminate the loop \n",
        "##        continue skip the instance of that loop"
      ],
      "execution_count": null,
      "outputs": []
    },
    {
      "cell_type": "code",
      "metadata": {
        "id": "RGReKn744OVC"
      },
      "source": [
        "##Q.11     In a for loop, what is the difference between range(10), range(0, 10), and range(0, 10, 1)?\n",
        "##Ans.     All are same"
      ],
      "execution_count": null,
      "outputs": []
    },
    {
      "cell_type": "code",
      "metadata": {
        "id": "E1H-msFT4OYi",
        "colab": {
          "base_uri": "https://localhost:8080/"
        },
        "outputId": "616e0bfc-eb8f-4581-c9c9-89d8fa25d47a"
      },
      "source": [
        "##Q.12     Write a short program that prints the numbers 1 to 10 using a for loop. Then write an equivalent program that prints the numbers 1 to 10 using a while loop.\n",
        "##Ans.    \n",
        "for i in range(10):\n",
        "  print(i+1)"
      ],
      "execution_count": 1,
      "outputs": [
        {
          "output_type": "stream",
          "text": [
            "1\n",
            "2\n",
            "3\n",
            "4\n",
            "5\n",
            "6\n",
            "7\n",
            "8\n",
            "9\n",
            "10\n"
          ],
          "name": "stdout"
        }
      ]
    },
    {
      "cell_type": "code",
      "metadata": {
        "id": "jngicxg44RBs"
      },
      "source": [
        "##Q.13     If you had a function named bacon() inside a module named spam, how would you call it after importing spam?\n",
        "##Ans.    Just i am going to call by updated name"
      ],
      "execution_count": null,
      "outputs": []
    }
  ]
}